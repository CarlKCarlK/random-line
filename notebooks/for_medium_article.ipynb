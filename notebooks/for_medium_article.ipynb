{
 "cells": [
  {
   "cell_type": "code",
   "execution_count": 1,
   "metadata": {},
   "outputs": [
    {
     "name": "stdout",
     "output_type": "stream",
     "text": [
      "in charge of the transportation department in the 1900\n"
     ]
    }
   ],
   "source": [
    "# Download from https://www.gutenberg.org/files/200/200.txt\n",
    "file_name = r\"m:\\data\\200.txt\"  # Set to your local path.\n",
    "# Pick a random line from a file\n",
    "\n",
    "# from GitHub Copilot\n",
    "import random\n",
    "\n",
    "with open(file_name) as f:\n",
    "    lines = f.read().splitlines()\n",
    "print(random.choice(lines))"
   ]
  },
  {
   "cell_type": "code",
   "execution_count": 2,
   "metadata": {},
   "outputs": [
    {
     "name": "stdout",
     "output_type": "stream",
     "text": [
      "100,989 of 146,933: made in 1875 and the number of patents soon rapidly increased;\n",
      "\n"
     ]
    }
   ],
   "source": [
    "import random\n",
    "# Download from https://www.gutenberg.org/files/200/200.txt\n",
    "file_name = r\"m:\\data\\200.txt\"  # Set to your local path.\n",
    "\n",
    "# count lines in file\n",
    "line_count = 0\n",
    "with open(file_name) as f:\n",
    "    for line in f:\n",
    "        line_count += 1\n",
    "\n",
    "# pick a random line index\n",
    "rng = random.Random(0)\n",
    "random_index0 = rng.randint(0, line_count - 1)\n",
    "\n",
    "# print the line at that index\n",
    "random_line = None\n",
    "with open(file_name) as f:\n",
    "    for index0, random_line in enumerate(f):\n",
    "        if index0 == random_index0:\n",
    "            break\n",
    "print(f\"{random_index0:,} of {line_count:,}: {random_line}\")"
   ]
  },
  {
   "cell_type": "code",
   "execution_count": 3,
   "metadata": {},
   "outputs": [
    {
     "name": "stdout",
     "output_type": "stream",
     "text": [
      "100,989 of 146,933: made in 1875 and the number of patents soon rapidly increased;\n",
      "\n"
     ]
    }
   ],
   "source": [
    "import random\n",
    "import itertools\n",
    "# Download from https://www.gutenberg.org/files/200/200.txt\n",
    "file_name = r\"m:\\data\\200.txt\"  # Set to your local path.\n",
    "\n",
    "# throws exception if file is empty\n",
    "rng = random.Random(0)\n",
    "line_count = sum(1 for _ in open(file_name))\n",
    "random_index0 = rng.randint(0, line_count - 1)\n",
    "random_line = next(itertools.islice(open(file_name), random_index0, None))\n",
    "print(f\"{random_index0:,} of {line_count:,}: {random_line}\")"
   ]
  },
  {
   "cell_type": "code",
   "execution_count": 4,
   "metadata": {},
   "outputs": [
    {
     "name": "stdout",
     "output_type": "stream",
     "text": [
      "The Project Gutenberg EBook of The Project Gutenberg Gutenberg\n",
      "\n"
     ]
    }
   ],
   "source": [
    "import random\n",
    "# Download from https://www.gutenberg.org/files/200/200.txt\n",
    "file_name = r\"m:\\data\\200.txt\"  # Set to your local path.\n",
    "\n",
    "with open(file_name) as f:\n",
    "    result = next(f)\n",
    "    print(result)"
   ]
  },
  {
   "cell_type": "code",
   "execution_count": 5,
   "metadata": {},
   "outputs": [
    {
     "name": "stdout",
     "output_type": "stream",
     "text": [
      "The Project Gutenberg EBook of The Project Gutenberg Gutenberg\n",
      "\n"
     ]
    }
   ],
   "source": [
    "import random\n",
    "# Download from https://www.gutenberg.org/files/200/200.txt\n",
    "file_name = r\"m:\\data\\200.txt\"  # Set to your local path.\n",
    "\n",
    "rng = random.Random(0)\n",
    "with open(file_name) as f:\n",
    "    result = next(f)\n",
    "    line = next(f)\n",
    "    if rng.random() < 0.5:\n",
    "        result = line\n",
    "    print(result)"
   ]
  },
  {
   "cell_type": "code",
   "execution_count": 6,
   "metadata": {},
   "outputs": [
    {
     "name": "stdout",
     "output_type": "stream",
     "text": [
      "The Project Gutenberg EBook of The Project Gutenberg Gutenberg\n",
      "\n"
     ]
    }
   ],
   "source": [
    "import random\n",
    "# Download from https://www.gutenberg.org/files/200/200.txt\n",
    "file_name = r\"m:\\data\\200.txt\"  # Set to your local path.\n",
    "\n",
    "rng = random.Random(0)\n",
    "with open(file_name) as f:\n",
    "    result = next(f)\n",
    "    line = next(f)\n",
    "    if rng.random() < 0.5:\n",
    "        result = line\n",
    "    line = next(f)\n",
    "    if rng.random() < 1.0 / 3.0:\n",
    "        result = line\n",
    "    print(result)"
   ]
  },
  {
   "cell_type": "code",
   "execution_count": 7,
   "metadata": {},
   "outputs": [
    {
     "name": "stdout",
     "output_type": "stream",
     "text": [
      "any great mineral wealth) develop into a wealthy country,\n",
      "\n"
     ]
    }
   ],
   "source": [
    "import random\n",
    "# Download from https://www.gutenberg.org/files/200/200.txt\n",
    "file_name = r\"m:\\data\\200.txt\"  # Set to your local path.\n",
    "\n",
    "rng = random.Random(0)\n",
    "result = None\n",
    "with open(file_name) as f:\n",
    "    for index0, line in enumerate(f):\n",
    "        if rng.random() < 1.0 / (index0 + 1):\n",
    "            result = line\n",
    "print(result)"
   ]
  },
  {
   "cell_type": "code",
   "execution_count": 13,
   "metadata": {},
   "outputs": [
    {
     "data": {
      "text/plain": [
       "'any great mineral wealth) develop into a wealthy country,\\n'"
      ]
     },
     "execution_count": 13,
     "metadata": {},
     "output_type": "execute_result"
    }
   ],
   "source": [
    "import random\n",
    "from tail_recursive import tail_recursive\n",
    "\n",
    "@tail_recursive\n",
    "def random_item(iterator, rng, n=1, result=None):\n",
    "    try:\n",
    "        item = next(iterator)\n",
    "    except StopIteration:\n",
    "        return result\n",
    "    if rng.random() < 1.0 / n:\n",
    "        result = item\n",
    "    return random_item.tail_call(iterator, rng, n=n + 1, result=result)\n",
    "\n",
    "# Download from https://www.gutenberg.org/files/200/200.txt\n",
    "file_name = r\"m:\\data\\200.txt\"  # Set to your local path.\n",
    "random_item(iterator=open(file_name), rng=random.Random(0))"
   ]
  },
  {
   "cell_type": "code",
   "execution_count": 9,
   "metadata": {},
   "outputs": [
    {
     "name": "stdout",
     "output_type": "stream",
     "text": [
      "1 36 41 187 226 403 2,608 5,756 20,162 48,750 912,566 922,409 "
     ]
    },
    {
     "data": {
      "text/plain": [
       "922408"
      ]
     },
     "execution_count": 9,
     "metadata": {},
     "output_type": "execute_result"
    }
   ],
   "source": [
    "import random\n",
    "\n",
    "def algo_one_pass_print(iterator, rng):\n",
    "    result = None\n",
    "    for index0, line in enumerate(iterator):\n",
    "        if rng.random() < 1.0 / (index0 + 1):\n",
    "            print(f\"{index0+1:,}\", end=\" \")\n",
    "            result = line\n",
    "    return result\n",
    "\n",
    "algo_one_pass_print(iter(range(1_000_000)), random.Random(0))"
   ]
  },
  {
   "cell_type": "code",
   "execution_count": 10,
   "metadata": {},
   "outputs": [
    {
     "data": {
      "text/plain": [
       "'aquiline.  The hair is shaved off from the forehead to the\\n'"
      ]
     },
     "execution_count": 10,
     "metadata": {},
     "output_type": "execute_result"
    }
   ],
   "source": [
    "import random\n",
    "import itertools\n",
    "from math import ceil\n",
    "\n",
    "def one_pass_skip(iterator, rng):\n",
    "    index1 = 1\n",
    "    result = None\n",
    "    while True:\n",
    "        try:\n",
    "            result = next(iterator)\n",
    "        except StopIteration:\n",
    "            return result\n",
    "\n",
    "        r = rng.random()\n",
    "        offset = max(ceil(r * index1 / (1.0 - r)), 1)\n",
    "        iterator = itertools.islice(iterator, offset - 1, None)\n",
    "        index1 += offset\n",
    "\n",
    "# Download from https://www.gutenberg.org/files/200/200.txt\n",
    "file_name = r\"m:\\data\\200.txt\"  # Set to your local path.\n",
    "one_pass_skip(open(file_name), random.Random(1))"
   ]
  },
  {
   "cell_type": "code",
   "execution_count": 11,
   "metadata": {},
   "outputs": [
    {
     "data": {
      "image/png": "[encoded data removed]",
      "text/plain": [
       "<Figure size 432x288 with 1 Axes>"
      ]
     },
     "metadata": {
      "needs_background": "light"
     },
     "output_type": "display_data"
    },
    {
     "data": {
      "image/png": "[encoded data removed]",
      "text/plain": [
       "<Figure size 432x288 with 1 Axes>"
      ]
     },
     "metadata": {
      "needs_background": "light"
     },
     "output_type": "display_data"
    }
   ],
   "source": [
    "import matplotlib.pyplot as plt\n",
    "\n",
    "rng = random.Random(1)\n",
    "result_list = [one_pass_skip(iter(range(100)), rng) for _ in range(100_000)]\n",
    "plt.hist(result_list, bins=100)\n",
    "plt.show()\n",
    "plt.plot(sorted(result_list))\n",
    "plt.show()"
   ]
  },
  {
   "cell_type": "code",
   "execution_count": null,
   "metadata": {},
   "outputs": [],
   "source": []
  }
 ],
 "metadata": {
  "kernelspec": {
   "display_name": "Python 3.9.1 ('base')",
   "language": "python",
   "name": "python3"
  },
  "language_info": {
   "codemirror_mode": {
    "name": "ipython",
    "version": 3
   },
   "file_extension": ".py",
   "mimetype": "text/x-python",
   "name": "python",
   "nbconvert_exporter": "python",
   "pygments_lexer": "ipython3",
   "version": "3.9.1"
  },
  "orig_nbformat": 4,
  "vscode": {
   "interpreter": {
    "hash": "89cad61b6dafad5147a3529296676894e4ce3aeb65deef2bd405aa165b54592d"
   }
  }
 },
 "nbformat": 4,
 "nbformat_minor": 2
}
